{
 "cells": [
  {
   "cell_type": "code",
   "execution_count": 3,
   "id": "d36e205f-a8a3-4bff-8684-6fc2b292f1d2",
   "metadata": {},
   "outputs": [],
   "source": [
    "from flask import Flask, request, render_template\n",
    "import pickle"
   ]
  },
  {
   "cell_type": "code",
   "execution_count": 4,
   "id": "b2fdda45-909c-4951-9fd2-22bada0237f2",
   "metadata": {},
   "outputs": [],
   "source": [
    "# Create Flask app\n",
    "app = Flask(__name__)"
   ]
  },
  {
   "cell_type": "code",
   "execution_count": 5,
   "id": "d8c583ed-c0da-4746-8338-595a19601950",
   "metadata": {},
   "outputs": [],
   "source": [
    "# Load the trained model\n",
    "model = pickle.load(open('SVM.pickle', 'rb'))"
   ]
  },
  {
   "cell_type": "code",
   "execution_count": 6,
   "id": "09524db9-3c55-46fc-8e64-6bafc019534e",
   "metadata": {},
   "outputs": [
    {
     "name": "stdout",
     "output_type": "stream",
     "text": [
      " * Serving Flask app '__main__'\n",
      " * Debug mode: on\n"
     ]
    },
    {
     "name": "stderr",
     "output_type": "stream",
     "text": [
      "WARNING: This is a development server. Do not use it in a production deployment. Use a production WSGI server instead.\n",
      " * Running on http://127.0.0.1:5000\n",
      "Press CTRL+C to quit\n",
      " * Restarting with watchdog (windowsapi)\n"
     ]
    }
   ],
   "source": [
    "@app.route('/')\n",
    "def home():\n",
    "    return render_template('index.html')\n",
    "\n",
    "@app.route('/predict', methods=['POST'])\n",
    "def predict():\n",
    "    try:\n",
    "        # Get input data from the form (user input)\n",
    "        sepal_length = float(request.form['sepal_length'])\n",
    "        sepal_width = float(request.form['sepal_width'])\n",
    "        petal_length = float(request.form['petal_length'])\n",
    "        petal_width = float(request.form['petal_width'])\n",
    "\n",
    "        # Use the loaded SVM model to make a prediction\n",
    "        prediction = model.predict([[sepal_length, sepal_width, petal_length, petal_width]])\n",
    "\n",
    "         # Validation check to prevent negative values\n",
    "        if any(value < 0 for value in [sepal_length, sepal_width, petal_length, petal_width]):\n",
    "             return render_template('result.html', prediction=\"Error: Negative values are not allowed.\")\n",
    "            \n",
    "           \n",
    "\n",
    "        # Iris class mapping (depending on how you trained your model)\n",
    "        iris_classes = {0: 'Iris-setosa', 1: 'Iris-versicolor', 2: 'Iris-virginica'}\n",
    "        result = iris_classes[prediction[0]]\n",
    "\n",
    "        # Return prediction result to be displayed on the webpage\n",
    "       \n",
    "        return render_template('result.html', prediction=result+\"1234\")\n",
    "    except Exception as e:\n",
    "        return f\"Error occured {e}\"\n",
    "\n",
    "if __name__ == '__main__':\n",
    "    try:\n",
    "        app.run(debug=True)\n",
    "    except SystemExit:\n",
    "        pass"
   ]
  },
  {
   "cell_type": "code",
   "execution_count": 7,
   "id": "078ec732-bd51-4818-8dc7-70b39aac5d73",
   "metadata": {},
   "outputs": [
    {
     "name": "stdout",
     "output_type": "stream",
     "text": [
      "Predicted class index: ['Iris-setosa']\n",
      "Model type: <class 'sklearn.svm._classes.SVC'>\n",
      "\n",
      "Support Vectors:\n",
      " [[4.5 2.3 1.3 0.3]\n",
      " [5.1 3.8 1.9 0.4]\n",
      " [5.1 3.3 1.7 0.5]\n",
      " [5.7 3.8 1.7 0.3]\n",
      " [5.4 3.4 1.7 0.2]\n",
      " [4.8 3.4 1.9 0.2]\n",
      " [6.7 3.1 4.7 1.5]\n",
      " [5.1 2.5 3.  1.1]\n",
      " [5.  2.  3.5 1. ]\n",
      " [6.3 2.3 4.4 1.3]\n",
      " [6.3 3.3 4.7 1.6]\n",
      " [5.4 3.  4.5 1.5]\n",
      " [5.7 2.8 4.5 1.3]\n",
      " [6.6 2.9 4.6 1.3]\n",
      " [6.  2.7 5.1 1.6]\n",
      " [5.  2.3 3.3 1. ]\n",
      " [5.6 2.9 3.6 1.3]\n",
      " [6.  3.4 4.5 1.6]\n",
      " [6.9 3.1 4.9 1.5]\n",
      " [5.7 2.6 3.5 1. ]\n",
      " [6.7 3.  5.  1.7]\n",
      " [5.5 2.6 4.4 1.2]\n",
      " [6.1 2.9 4.7 1.4]\n",
      " [6.4 3.2 4.5 1.5]\n",
      " [6.8 2.8 4.8 1.4]\n",
      " [7.  3.2 4.7 1.4]\n",
      " [5.6 3.  4.5 1.5]\n",
      " [6.5 2.8 4.6 1.5]\n",
      " [6.1 3.  4.6 1.4]\n",
      " [6.2 2.2 4.5 1.5]\n",
      " [5.9 3.2 4.8 1.8]\n",
      " [5.8 2.8 5.1 2.4]\n",
      " [6.1 2.6 5.6 1.4]\n",
      " [6.3 2.7 4.9 1.8]\n",
      " [5.6 2.8 4.9 2. ]\n",
      " [5.7 2.5 5.  2. ]\n",
      " [4.9 2.5 4.5 1.7]\n",
      " [6.2 3.4 5.4 2.3]\n",
      " [6.5 3.  5.2 2. ]\n",
      " [6.7 3.  5.2 2.3]\n",
      " [6.9 3.1 5.4 2.1]\n",
      " [6.3 2.5 5.  1.9]\n",
      " [6.1 3.  4.9 1.8]\n",
      " [6.4 3.2 5.3 2.3]\n",
      " [6.9 3.1 5.1 2.3]\n",
      " [6.  3.  4.8 1.8]\n",
      " [6.3 2.8 5.1 1.5]\n",
      " [6.4 2.7 5.3 1.9]\n",
      " [6.  2.2 5.  1.5]\n",
      " [7.9 3.8 6.4 2. ]\n",
      " [5.8 2.7 5.1 1.9]\n",
      " [7.2 3.  5.8 1.6]]\n"
     ]
    }
   ],
   "source": [
    "import pickle\n",
    "\n",
    "# Load the model\n",
    "model = pickle.load(open('SVM.pickle', 'rb'))\n",
    "\n",
    "# Sample input (replace with actual test values)\n",
    "test_input = [[5.1, 3.5, 1.4, 0.2]]\n",
    "prediction = model.predict(test_input)\n",
    "print(\"Predicted class index:\", prediction)\n",
    "\n",
    "print(\"Model type:\", type(model))\n",
    "\n",
    "# Display the support vectors\n",
    "print(\"\\nSupport Vectors:\\n\", model.support_vectors_)"
   ]
  },
  {
   "cell_type": "code",
   "execution_count": 8,
   "id": "69f709c4-0275-479e-8669-d0c87d12db27",
   "metadata": {},
   "outputs": [
    {
     "name": "stdout",
     "output_type": "stream",
     "text": [
      "\n",
      "Model Parameters:\n",
      " {'C': 1.0, 'break_ties': False, 'cache_size': 200, 'class_weight': None, 'coef0': 0.0, 'decision_function_shape': 'ovr', 'degree': 3, 'gamma': 'scale', 'kernel': 'rbf', 'max_iter': -1, 'probability': False, 'random_state': None, 'shrinking': True, 'tol': 0.001, 'verbose': False}\n"
     ]
    }
   ],
   "source": [
    "# Display the model parameters\n",
    "print(\"\\nModel Parameters:\\n\", model.get_params())"
   ]
  },
  {
   "cell_type": "code",
   "execution_count": null,
   "id": "fe989c3a-c068-410f-b0aa-a03b04bf0218",
   "metadata": {},
   "outputs": [],
   "source": []
  }
 ],
 "metadata": {
  "kernelspec": {
   "display_name": "Python 3 (ipykernel)",
   "language": "python",
   "name": "python3"
  },
  "language_info": {
   "codemirror_mode": {
    "name": "ipython",
    "version": 3
   },
   "file_extension": ".py",
   "mimetype": "text/x-python",
   "name": "python",
   "nbconvert_exporter": "python",
   "pygments_lexer": "ipython3",
   "version": "3.11.5"
  }
 },
 "nbformat": 4,
 "nbformat_minor": 5
}
